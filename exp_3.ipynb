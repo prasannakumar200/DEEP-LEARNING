{
  "nbformat": 4,
  "nbformat_minor": 0,
  "metadata": {
    "colab": {
      "provenance": [],
      "authorship_tag": "ABX9TyM9Y2qm3QkgPUU8fzcXQS+4",
      "include_colab_link": true
    },
    "kernelspec": {
      "name": "python3",
      "display_name": "Python 3"
    },
    "language_info": {
      "name": "python"
    }
  },
  "cells": [
    {
      "cell_type": "markdown",
      "metadata": {
        "id": "view-in-github",
        "colab_type": "text"
      },
      "source": [
        "<a href=\"https://colab.research.google.com/github/prasannakumar200/DEEP-LEARNING/blob/main/exp_3.ipynb\" target=\"_parent\"><img src=\"https://colab.research.google.com/assets/colab-badge.svg\" alt=\"Open In Colab\"/></a>"
      ]
    },
    {
      "cell_type": "code",
      "execution_count": 1,
      "metadata": {
        "colab": {
          "base_uri": "https://localhost:8080/"
        },
        "id": "1Wt2bPaRbqv7",
        "outputId": "f5e0b123-b9fb-45e8-f896-2d04327eb963"
      },
      "outputs": [
        {
          "output_type": "stream",
          "name": "stdout",
          "text": [
            "Epoch 1/10\n",
            "20/20 [==============================] - 1s 10ms/step - loss: 0.6892 - accuracy: 0.4891 - val_loss: 0.6721 - val_accuracy: 0.5938\n",
            "Epoch 2/10\n",
            "20/20 [==============================] - 0s 3ms/step - loss: 0.6695 - accuracy: 0.5078 - val_loss: 0.6426 - val_accuracy: 0.5938\n",
            "Epoch 3/10\n",
            "20/20 [==============================] - 0s 2ms/step - loss: 0.6492 - accuracy: 0.5422 - val_loss: 0.6200 - val_accuracy: 0.6313\n",
            "Epoch 4/10\n",
            "20/20 [==============================] - 0s 3ms/step - loss: 0.6287 - accuracy: 0.6047 - val_loss: 0.5995 - val_accuracy: 0.6687\n",
            "Epoch 5/10\n",
            "20/20 [==============================] - 0s 2ms/step - loss: 0.6076 - accuracy: 0.6562 - val_loss: 0.5765 - val_accuracy: 0.6812\n",
            "Epoch 6/10\n",
            "20/20 [==============================] - 0s 2ms/step - loss: 0.5843 - accuracy: 0.7172 - val_loss: 0.5556 - val_accuracy: 0.7437\n",
            "Epoch 7/10\n",
            "20/20 [==============================] - 0s 2ms/step - loss: 0.5601 - accuracy: 0.7812 - val_loss: 0.5325 - val_accuracy: 0.8062\n",
            "Epoch 8/10\n",
            "20/20 [==============================] - 0s 2ms/step - loss: 0.5345 - accuracy: 0.7922 - val_loss: 0.5071 - val_accuracy: 0.8250\n",
            "Epoch 9/10\n",
            "20/20 [==============================] - 0s 3ms/step - loss: 0.5082 - accuracy: 0.8266 - val_loss: 0.4840 - val_accuracy: 0.8938\n",
            "Epoch 10/10\n",
            "20/20 [==============================] - 0s 3ms/step - loss: 0.4823 - accuracy: 0.8547 - val_loss: 0.4587 - val_accuracy: 0.9187\n",
            "7/7 [==============================] - 0s 1ms/step\n",
            "Test accuracy: 0.8750\n"
          ]
        }
      ],
      "source": [
        "\n",
        "import numpy as np\n",
        "import tensorflow as tf\n",
        "from tensorflow.keras.models import Sequential\n",
        "from tensorflow.keras.layers import Dense,Input\n",
        "from sklearn.model_selection import train_test_split\n",
        "from sklearn.metrics import accuracy_score\n",
        "np.random.seed(42)\n",
        "X = np.random.rand(1000, 2)\n",
        "y = (X[:, 0] + X[:, 1] > 1).astype(int)\n",
        "X_train, X_test, y_train, y_test = train_test_split(X, y, test_size=0.2,\n",
        "random_state=42)\n",
        "model = Sequential([Input(shape=(2)),Dense(64, activation='relu'),Dense(1,\n",
        "activation='sigmoid')])\n",
        "model.compile(optimizer='adam',loss='binary_crossentropy',metrics=['accuracy'])\n",
        "model.fit(X_train, y_train, epochs=10, batch_size=32, validation_split=0.2)\n",
        "y_pred = model.predict(X_test)\n",
        "y_pred_binary = (y_pred > 0.5).astype(int)\n",
        "test_accuracy = accuracy_score(y_test, y_pred_binary)\n",
        "print(f\"Test accuracy: {test_accuracy:.4f}\")"
      ]
    }
  ]
}