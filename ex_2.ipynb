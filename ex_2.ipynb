{
  "nbformat": 4,
  "nbformat_minor": 0,
  "metadata": {
    "colab": {
      "provenance": [],
      "authorship_tag": "ABX9TyM3Uk8DeD0VqenmdldXSsZS",
      "include_colab_link": true
    },
    "kernelspec": {
      "name": "python3",
      "display_name": "Python 3"
    },
    "language_info": {
      "name": "python"
    }
  },
  "cells": [
    {
      "cell_type": "markdown",
      "metadata": {
        "id": "view-in-github",
        "colab_type": "text"
      },
      "source": [
        "<a href=\"https://colab.research.google.com/github/prasannakumar200/DEEP-LEARNING/blob/main/ex_2.ipynb\" target=\"_parent\"><img src=\"https://colab.research.google.com/assets/colab-badge.svg\" alt=\"Open In Colab\"/></a>"
      ]
    },
    {
      "cell_type": "code",
      "execution_count": 1,
      "metadata": {
        "colab": {
          "base_uri": "https://localhost:8080/"
        },
        "id": "m4Xb3qR1apA9",
        "outputId": "c3a9544c-8d43-466b-9a61-1fcdae808039"
      },
      "outputs": [
        {
          "output_type": "stream",
          "name": "stdout",
          "text": [
            "Downloading data from https://storage.googleapis.com/tensorflow/tf-keras-datasets/mnist.npz\n",
            "11490434/11490434 [==============================] - 0s 0us/step\n",
            "Epoch 1/5\n",
            "1500/1500 [==============================] - 11s 5ms/step - loss: 0.2701 - accuracy: 0.9214 - val_loss: 0.1443 - val_accuracy: 0.9591\n",
            "Epoch 2/5\n",
            "1500/1500 [==============================] - 6s 4ms/step - loss: 0.1126 - accuracy: 0.9663 - val_loss: 0.1183 - val_accuracy: 0.9645\n",
            "Epoch 3/5\n",
            "1500/1500 [==============================] - 5s 3ms/step - loss: 0.0776 - accuracy: 0.9760 - val_loss: 0.1047 - val_accuracy: 0.9700\n",
            "Epoch 4/5\n",
            "1500/1500 [==============================] - 5s 3ms/step - loss: 0.0574 - accuracy: 0.9823 - val_loss: 0.0917 - val_accuracy: 0.9740\n",
            "Epoch 5/5\n",
            "1500/1500 [==============================] - 7s 4ms/step - loss: 0.0469 - accuracy: 0.9845 - val_loss: 0.0950 - val_accuracy: 0.9719\n",
            "313/313 [==============================] - 1s 2ms/step - loss: 0.0827 - accuracy: 0.9744\n",
            "Test accuracy: 0.9744\n"
          ]
        }
      ],
      "source": [
        "import tensorflow as tf\n",
        "from tensorflow.keras.datasets import mnist\n",
        "from tensorflow.keras.models import Sequential\n",
        "from tensorflow.keras.layers import Dense, Flatten\n",
        "from tensorflow.keras.utils import to_categorical\n",
        "# Load and preprocess the MNIST dataset\n",
        "(x_train, y_train), (x_test, y_test) = mnist.load_data()\n",
        "x_train, x_test = x_train / 255.0, x_test / 255.0\n",
        "y_train, y_test = to_categorical(y_train, 10), to_categorical(y_test, 10)\n",
        "model = Sequential([\n",
        " Flatten(input_shape=(28, 28)),\n",
        " Dense(128, activation='relu'),\n",
        " Dense(64, activation='relu'),\n",
        " Dense(10, activation='softmax')\n",
        "])\n",
        "model.compile(optimizer='adam',loss='categorical_crossentropy',metrics=['accuracy'])\n",
        "model.fit(x_train, y_train, epochs=5, batch_size=32, validation_split=0.2)\n",
        "test_loss, test_accuracy = model.evaluate(x_test, y_test)\n",
        "print(f\"Test accuracy: {test_accuracy:.4f}\")"
      ]
    }
  ]
}