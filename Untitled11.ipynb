{
  "nbformat": 4,
  "nbformat_minor": 0,
  "metadata": {
    "colab": {
      "provenance": [],
      "authorship_tag": "ABX9TyM9Y2qm3QkgPUU8fzcXQS+4",
      "include_colab_link": true
    },
    "kernelspec": {
      "name": "python3",
      "display_name": "Python 3"
    },
    "language_info": {
      "name": "python"
    }
  },
  "cells": [
    {
      "cell_type": "markdown",
      "metadata": {
        "id": "view-in-github",
        "colab_type": "text"
      },
      "source": [
        "<a href=\"https://colab.research.google.com/github/prasannakumar200/DEEP-LEARNING/blob/main/Untitled11.ipynb\" target=\"_parent\"><img src=\"https://colab.research.google.com/assets/colab-badge.svg\" alt=\"Open In Colab\"/></a>"
      ]
    },
    {
      "cell_type": "code",
      "execution_count": 1,
      "metadata": {
        "colab": {
          "base_uri": "https://localhost:8080/"
        },
        "id": "4PWqdLjEhjSg",
        "outputId": "7a8e265c-c45d-4796-f6d1-6b3f3df8726c"
      },
      "outputs": [
        {
          "output_type": "stream",
          "name": "stdout",
          "text": [
            "Epoch 1/10\n",
            "20/20 [==============================] - 4s 66ms/step - loss: 0.7058 - accuracy: 0.4719 - val_loss: 0.6949 - val_accuracy: 0.4062\n",
            "Epoch 2/10\n",
            "20/20 [==============================] - 0s 14ms/step - loss: 0.6869 - accuracy: 0.5219 - val_loss: 0.6704 - val_accuracy: 0.5875\n",
            "Epoch 3/10\n",
            "20/20 [==============================] - 0s 16ms/step - loss: 0.6707 - accuracy: 0.5156 - val_loss: 0.6515 - val_accuracy: 0.6000\n",
            "Epoch 4/10\n",
            "20/20 [==============================] - 0s 12ms/step - loss: 0.6552 - accuracy: 0.5797 - val_loss: 0.6351 - val_accuracy: 0.6500\n",
            "Epoch 5/10\n",
            "20/20 [==============================] - 0s 23ms/step - loss: 0.6393 - accuracy: 0.6406 - val_loss: 0.6172 - val_accuracy: 0.6812\n",
            "Epoch 6/10\n",
            "20/20 [==============================] - 0s 14ms/step - loss: 0.6211 - accuracy: 0.7063 - val_loss: 0.5983 - val_accuracy: 0.7063\n",
            "Epoch 7/10\n",
            "20/20 [==============================] - 0s 20ms/step - loss: 0.6016 - accuracy: 0.7344 - val_loss: 0.5774 - val_accuracy: 0.7750\n",
            "Epoch 8/10\n",
            "20/20 [==============================] - 0s 13ms/step - loss: 0.5793 - accuracy: 0.7969 - val_loss: 0.5568 - val_accuracy: 0.8375\n",
            "Epoch 9/10\n",
            "20/20 [==============================] - 0s 10ms/step - loss: 0.5557 - accuracy: 0.8250 - val_loss: 0.5329 - val_accuracy: 0.8562\n",
            "Epoch 10/10\n",
            "20/20 [==============================] - 0s 7ms/step - loss: 0.5313 - accuracy: 0.8484 - val_loss: 0.5106 - val_accuracy: 0.8938\n",
            "7/7 [==============================] - 0s 6ms/step\n",
            "Test accuracy: 0.8500\n"
          ]
        }
      ],
      "source": [
        "\n",
        "import numpy as np\n",
        "import tensorflow as tf\n",
        "from tensorflow.keras.models import Sequential\n",
        "from tensorflow.keras.layers import Dense,Input\n",
        "from sklearn.model_selection import train_test_split\n",
        "from sklearn.metrics import accuracy_score\n",
        "np.random.seed(42)\n",
        "X = np.random.rand(1000, 2)\n",
        "y = (X[:, 0] + X[:, 1] > 1).astype(int)\n",
        "X_train, X_test, y_train, y_test = train_test_split(X, y, test_size=0.2,\n",
        "random_state=42)\n",
        "model = Sequential([Input(shape=(2)),Dense(64, activation='relu'),Dense(1,\n",
        "activation='sigmoid')])\n",
        "model.compile(optimizer='adam',loss='binary_crossentropy',metrics=['accuracy'])\n",
        "model.fit(X_train, y_train, epochs=10, batch_size=32, validation_split=0.2)\n",
        "y_pred = model.predict(X_test)\n",
        "y_pred_binary = (y_pred > 0.5).astype(int)\n",
        "test_accuracy = accuracy_score(y_test, y_pred_binary)\n",
        "print(f\"Test accuracy: {test_accuracy:.4f}\")"
      ]
    }
  ]
}