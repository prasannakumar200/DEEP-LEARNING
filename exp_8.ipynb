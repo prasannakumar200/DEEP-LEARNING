{
  "nbformat": 4,
  "nbformat_minor": 0,
  "metadata": {
    "colab": {
      "provenance": [],
      "authorship_tag": "ABX9TyP0xwujxcJgFa3YNDqJKDh+",
      "include_colab_link": true
    },
    "kernelspec": {
      "name": "python3",
      "display_name": "Python 3"
    },
    "language_info": {
      "name": "python"
    }
  },
  "cells": [
    {
      "cell_type": "markdown",
      "metadata": {
        "id": "view-in-github",
        "colab_type": "text"
      },
      "source": [
        "<a href=\"https://colab.research.google.com/github/prasannakumar200/DEEP-LEARNING/blob/main/exp_8.ipynb\" target=\"_parent\"><img src=\"https://colab.research.google.com/assets/colab-badge.svg\" alt=\"Open In Colab\"/></a>"
      ]
    },
    {
      "cell_type": "code",
      "execution_count": 1,
      "metadata": {
        "colab": {
          "base_uri": "https://localhost:8080/"
        },
        "id": "SbpiL34MnOhB",
        "outputId": "5d0c90f6-5591-499f-f155-c0f4087226df"
      },
      "outputs": [
        {
          "output_type": "stream",
          "name": "stdout",
          "text": [
            "Downloading data from https://storage.googleapis.com/tensorflow/tf-keras-datasets/mnist.npz\n",
            "11490434/11490434 [==============================] - 0s 0us/step\n",
            "Epoch 1/10\n",
            "300/300 - 56s - loss: 0.3500 - accuracy: 0.8939 - val_loss: 0.0695 - val_accuracy: 0.9798 - 56s/epoch - 185ms/step\n",
            "Epoch 2/10\n",
            "300/300 - 47s - loss: 0.1095 - accuracy: 0.9675 - val_loss: 0.0469 - val_accuracy: 0.9854 - 47s/epoch - 157ms/step\n",
            "Epoch 3/10\n",
            "300/300 - 48s - loss: 0.0808 - accuracy: 0.9759 - val_loss: 0.0388 - val_accuracy: 0.9863 - 48s/epoch - 159ms/step\n",
            "Epoch 4/10\n",
            "300/300 - 47s - loss: 0.0662 - accuracy: 0.9807 - val_loss: 0.0373 - val_accuracy: 0.9871 - 47s/epoch - 155ms/step\n",
            "Epoch 5/10\n",
            "300/300 - 52s - loss: 0.0561 - accuracy: 0.9830 - val_loss: 0.0320 - val_accuracy: 0.9893 - 52s/epoch - 174ms/step\n",
            "Epoch 6/10\n",
            "300/300 - 46s - loss: 0.0499 - accuracy: 0.9848 - val_loss: 0.0282 - val_accuracy: 0.9913 - 46s/epoch - 155ms/step\n",
            "Epoch 7/10\n",
            "300/300 - 47s - loss: 0.0456 - accuracy: 0.9861 - val_loss: 0.0282 - val_accuracy: 0.9903 - 47s/epoch - 155ms/step\n",
            "Epoch 8/10\n",
            "300/300 - 47s - loss: 0.0391 - accuracy: 0.9883 - val_loss: 0.0266 - val_accuracy: 0.9918 - 47s/epoch - 155ms/step\n",
            "Epoch 9/10\n",
            "300/300 - 46s - loss: 0.0361 - accuracy: 0.9888 - val_loss: 0.0309 - val_accuracy: 0.9908 - 46s/epoch - 152ms/step\n",
            "Epoch 10/10\n",
            "300/300 - 46s - loss: 0.0330 - accuracy: 0.9892 - val_loss: 0.0269 - val_accuracy: 0.9908 - 46s/epoch - 155ms/step\n",
            "Test accuracy: 99.08%\n"
          ]
        }
      ],
      "source": [
        "\n",
        "import tensorflow as tf\n",
        "from tensorflow.keras.datasets import mnist\n",
        "from tensorflow.keras.models import Sequential\n",
        "from tensorflow.keras.layers import Conv2D, MaxPooling2D, Flatten, Dense, Dropout\n",
        "from tensorflow.keras.utils import to_categorical\n",
        "# Load and preprocess the dataset\n",
        "(x_train, y_train), (x_test, y_test) = mnist.load_data()\n",
        "x_train = x_train.reshape(x_train.shape[0], 28, 28, 1).astype('float32') / 255\n",
        "x_test = x_test.reshape(x_test.shape[0], 28, 28, 1).astype('float32') / 255\n",
        "y_train = to_categorical(y_train, 10)\n",
        "y_test = to_categorical(y_test, 10)\n",
        "# Build the CNN model\n",
        "model = Sequential()\n",
        "model.add(Conv2D(32, kernel_size=(3, 3), activation='relu',\n",
        "input_shape=(28, 28, 1)))\n",
        "model.add(MaxPooling2D(pool_size=(2, 2)))\n",
        "model.add(Conv2D(64, kernel_size=(3, 3), activation='relu'))\n",
        "model.add(MaxPooling2D(pool_size=(2, 2)))\n",
        "model.add(Flatten())\n",
        "model.add(Dense(128, activation='relu'))\n",
        "model.add(Dropout(0.5))\n",
        "model.add(Dense(10, activation='softmax'))\n",
        "# Compile the model\n",
        "model.compile(loss='categorical_crossentropy', optimizer='adam',\n",
        "metrics=['accuracy'])\n",
        "# Train the model\n",
        "model.fit(x_train, y_train, validation_data=(x_test, y_test), epochs=10,\n",
        "batch_size=200, verbose=2)\n",
        "# Evaluate the model\n",
        "test_loss, test_acc = model.evaluate(x_test, y_test, verbose=0)\n",
        "print(f'Test accuracy: {test_acc*100:.2f}%')"
      ]
    }
  ]
}